{
 "cells": [
  {
   "cell_type": "code",
   "execution_count": 1,
   "metadata": {},
   "outputs": [],
   "source": [
    "%load_ext autoreload\n",
    "%autoreload 2\n"
   ]
  },
  {
   "cell_type": "markdown",
   "metadata": {},
   "source": [
    "#### Import required Libraries"
   ]
  },
  {
   "cell_type": "code",
   "execution_count": 2,
   "metadata": {},
   "outputs": [],
   "source": [
    "import numpy as np\n",
    "import pandas as pd\n",
    "import matplotlib.pyplot as plt\n",
    "import seaborn as sns\n",
    "import os\n",
    "import sys"
   ]
  },
  {
   "cell_type": "markdown",
   "metadata": {},
   "source": [
    "##### Ignoring Warnings"
   ]
  },
  {
   "cell_type": "code",
   "execution_count": 3,
   "metadata": {},
   "outputs": [],
   "source": [
    "import warnings\n",
    "warnings.filterwarnings('ignore')\n"
   ]
  },
  {
   "cell_type": "markdown",
   "metadata": {},
   "source": [
    "Import modules"
   ]
  },
  {
   "cell_type": "code",
   "execution_count": 15,
   "metadata": {},
   "outputs": [],
   "source": [
    "sys.path.append(os.path.abspath(os.path.join('../scripts')))\n",
    "from preprocessing import PreProcess\n",
    "from overview import Overview\n",
    "from plot import Plot"
   ]
  },
  {
   "cell_type": "markdown",
   "metadata": {},
   "source": [
    "#### Import the Data"
   ]
  },
  {
   "cell_type": "code",
   "execution_count": 137,
   "metadata": {},
   "outputs": [],
   "source": [
    "# df = pd.read_excel('../data/Week1_challenge_data_source.xlsx')\n",
    "df_org = pd.read_csv('../data/cleaned_data_outliers.csv')"
   ]
  },
  {
   "cell_type": "code",
   "execution_count": 138,
   "metadata": {},
   "outputs": [],
   "source": [
    "df = df_org.copy()"
   ]
  },
  {
   "cell_type": "code",
   "execution_count": 139,
   "metadata": {},
   "outputs": [],
   "source": [
    "pl = Plot()\n",
    "overview = Overview(df)"
   ]
  },
  {
   "cell_type": "markdown",
   "metadata": {},
   "source": [
    "Data overview"
   ]
  },
  {
   "cell_type": "code",
   "execution_count": 140,
   "metadata": {},
   "outputs": [
    {
     "data": {
      "text/html": [
       "<div>\n",
       "<style scoped>\n",
       "    .dataframe tbody tr th:only-of-type {\n",
       "        vertical-align: middle;\n",
       "    }\n",
       "\n",
       "    .dataframe tbody tr th {\n",
       "        vertical-align: top;\n",
       "    }\n",
       "\n",
       "    .dataframe thead th {\n",
       "        text-align: right;\n",
       "    }\n",
       "</style>\n",
       "<table border=\"1\" class=\"dataframe\">\n",
       "  <thead>\n",
       "    <tr style=\"text-align: right;\">\n",
       "      <th></th>\n",
       "      <th>bearer_id</th>\n",
       "      <th>start</th>\n",
       "      <th>start_ms</th>\n",
       "      <th>end</th>\n",
       "      <th>end_ms</th>\n",
       "      <th>dur._(ms)</th>\n",
       "      <th>imsi</th>\n",
       "      <th>msisdn/number</th>\n",
       "      <th>imei</th>\n",
       "      <th>last_location_name</th>\n",
       "      <th>...</th>\n",
       "      <th>youtube_dl_(bytes)</th>\n",
       "      <th>youtube_ul_(bytes)</th>\n",
       "      <th>netflix_dl_(bytes)</th>\n",
       "      <th>netflix_ul_(bytes)</th>\n",
       "      <th>gaming_dl_(bytes)</th>\n",
       "      <th>gaming_ul_(bytes)</th>\n",
       "      <th>other_dl_(bytes)</th>\n",
       "      <th>other_ul_(bytes)</th>\n",
       "      <th>total_ul_(bytes)</th>\n",
       "      <th>total_dl_(bytes)</th>\n",
       "    </tr>\n",
       "  </thead>\n",
       "  <tbody>\n",
       "    <tr>\n",
       "      <th>0</th>\n",
       "      <td>1.311448e+19</td>\n",
       "      <td>2019-04-04 12:01:18</td>\n",
       "      <td>770.0</td>\n",
       "      <td>2019-04-25 14:35:31</td>\n",
       "      <td>662.0</td>\n",
       "      <td>0.996516</td>\n",
       "      <td>2.082014e+14</td>\n",
       "      <td>3.366496e+10</td>\n",
       "      <td>3.552121e+13</td>\n",
       "      <td>9164566995485190</td>\n",
       "      <td>...</td>\n",
       "      <td>0.970502</td>\n",
       "      <td>0.822514</td>\n",
       "      <td>0.921154</td>\n",
       "      <td>0.938287</td>\n",
       "      <td>0.912787</td>\n",
       "      <td>0.988555</td>\n",
       "      <td>0.872215</td>\n",
       "      <td>0.945762</td>\n",
       "      <td>0.771197</td>\n",
       "      <td>0.778526</td>\n",
       "    </tr>\n",
       "    <tr>\n",
       "      <th>1</th>\n",
       "      <td>1.311448e+19</td>\n",
       "      <td>2019-04-09 13:04:04</td>\n",
       "      <td>235.0</td>\n",
       "      <td>2019-04-25 08:15:48</td>\n",
       "      <td>606.0</td>\n",
       "      <td>0.944446</td>\n",
       "      <td>2.082019e+14</td>\n",
       "      <td>3.368185e+10</td>\n",
       "      <td>3.579401e+13</td>\n",
       "      <td>L77566A</td>\n",
       "      <td>...</td>\n",
       "      <td>0.989326</td>\n",
       "      <td>0.988470</td>\n",
       "      <td>0.982026</td>\n",
       "      <td>0.981643</td>\n",
       "      <td>0.974370</td>\n",
       "      <td>0.788814</td>\n",
       "      <td>0.962224</td>\n",
       "      <td>0.991811</td>\n",
       "      <td>0.886427</td>\n",
       "      <td>0.933206</td>\n",
       "    </tr>\n",
       "    <tr>\n",
       "      <th>2</th>\n",
       "      <td>1.311448e+19</td>\n",
       "      <td>2019-04-09 17:42:11</td>\n",
       "      <td>1.0</td>\n",
       "      <td>2019-04-25 11:58:13</td>\n",
       "      <td>652.0</td>\n",
       "      <td>0.944006</td>\n",
       "      <td>2.082003e+14</td>\n",
       "      <td>3.376063e+10</td>\n",
       "      <td>3.528151e+13</td>\n",
       "      <td>D42335A</td>\n",
       "      <td>...</td>\n",
       "      <td>0.987317</td>\n",
       "      <td>0.967048</td>\n",
       "      <td>0.978865</td>\n",
       "      <td>0.904660</td>\n",
       "      <td>0.897724</td>\n",
       "      <td>0.702334</td>\n",
       "      <td>0.942217</td>\n",
       "      <td>0.882317</td>\n",
       "      <td>0.687728</td>\n",
       "      <td>0.758117</td>\n",
       "    </tr>\n",
       "    <tr>\n",
       "      <th>3</th>\n",
       "      <td>1.311448e+19</td>\n",
       "      <td>2019-04-10 00:31:25</td>\n",
       "      <td>486.0</td>\n",
       "      <td>2019-04-25 07:36:35</td>\n",
       "      <td>171.0</td>\n",
       "      <td>0.938611</td>\n",
       "      <td>2.082014e+14</td>\n",
       "      <td>3.375034e+10</td>\n",
       "      <td>3.535661e+13</td>\n",
       "      <td>T21824A</td>\n",
       "      <td>...</td>\n",
       "      <td>0.993545</td>\n",
       "      <td>0.969493</td>\n",
       "      <td>0.961585</td>\n",
       "      <td>0.775449</td>\n",
       "      <td>0.995798</td>\n",
       "      <td>0.966299</td>\n",
       "      <td>0.990469</td>\n",
       "      <td>0.977834</td>\n",
       "      <td>0.820953</td>\n",
       "      <td>0.986552</td>\n",
       "    </tr>\n",
       "    <tr>\n",
       "      <th>4</th>\n",
       "      <td>1.311448e+19</td>\n",
       "      <td>2019-04-12 20:10:23</td>\n",
       "      <td>565.0</td>\n",
       "      <td>2019-04-25 10:40:32</td>\n",
       "      <td>954.0</td>\n",
       "      <td>0.903820</td>\n",
       "      <td>2.082014e+14</td>\n",
       "      <td>3.369980e+10</td>\n",
       "      <td>3.540701e+13</td>\n",
       "      <td>D88865A</td>\n",
       "      <td>...</td>\n",
       "      <td>0.967557</td>\n",
       "      <td>0.987831</td>\n",
       "      <td>0.976847</td>\n",
       "      <td>0.702620</td>\n",
       "      <td>0.963140</td>\n",
       "      <td>0.876788</td>\n",
       "      <td>0.965772</td>\n",
       "      <td>0.985008</td>\n",
       "      <td>0.785599</td>\n",
       "      <td>0.904707</td>\n",
       "    </tr>\n",
       "  </tbody>\n",
       "</table>\n",
       "<p>5 rows × 55 columns</p>\n",
       "</div>"
      ],
      "text/plain": [
       "      bearer_id                start  start_ms                  end  end_ms  \\\n",
       "0  1.311448e+19  2019-04-04 12:01:18     770.0  2019-04-25 14:35:31   662.0   \n",
       "1  1.311448e+19  2019-04-09 13:04:04     235.0  2019-04-25 08:15:48   606.0   \n",
       "2  1.311448e+19  2019-04-09 17:42:11       1.0  2019-04-25 11:58:13   652.0   \n",
       "3  1.311448e+19  2019-04-10 00:31:25     486.0  2019-04-25 07:36:35   171.0   \n",
       "4  1.311448e+19  2019-04-12 20:10:23     565.0  2019-04-25 10:40:32   954.0   \n",
       "\n",
       "   dur._(ms)          imsi  msisdn/number          imei last_location_name  \\\n",
       "0   0.996516  2.082014e+14   3.366496e+10  3.552121e+13   9164566995485190   \n",
       "1   0.944446  2.082019e+14   3.368185e+10  3.579401e+13            L77566A   \n",
       "2   0.944006  2.082003e+14   3.376063e+10  3.528151e+13            D42335A   \n",
       "3   0.938611  2.082014e+14   3.375034e+10  3.535661e+13            T21824A   \n",
       "4   0.903820  2.082014e+14   3.369980e+10  3.540701e+13            D88865A   \n",
       "\n",
       "   ...  youtube_dl_(bytes)  youtube_ul_(bytes)  netflix_dl_(bytes)  \\\n",
       "0  ...            0.970502            0.822514            0.921154   \n",
       "1  ...            0.989326            0.988470            0.982026   \n",
       "2  ...            0.987317            0.967048            0.978865   \n",
       "3  ...            0.993545            0.969493            0.961585   \n",
       "4  ...            0.967557            0.987831            0.976847   \n",
       "\n",
       "   netflix_ul_(bytes)  gaming_dl_(bytes)  gaming_ul_(bytes)  other_dl_(bytes)  \\\n",
       "0            0.938287           0.912787           0.988555          0.872215   \n",
       "1            0.981643           0.974370           0.788814          0.962224   \n",
       "2            0.904660           0.897724           0.702334          0.942217   \n",
       "3            0.775449           0.995798           0.966299          0.990469   \n",
       "4            0.702620           0.963140           0.876788          0.965772   \n",
       "\n",
       "   other_ul_(bytes)  total_ul_(bytes)  total_dl_(bytes)  \n",
       "0          0.945762          0.771197          0.778526  \n",
       "1          0.991811          0.886427          0.933206  \n",
       "2          0.882317          0.687728          0.758117  \n",
       "3          0.977834          0.820953          0.986552  \n",
       "4          0.985008          0.785599          0.904707  \n",
       "\n",
       "[5 rows x 55 columns]"
      ]
     },
     "execution_count": 140,
     "metadata": {},
     "output_type": "execute_result"
    }
   ],
   "source": [
    "df.head()"
   ]
  },
  {
   "cell_type": "markdown",
   "metadata": {},
   "source": [
    "#### User Engagement Analysis"
   ]
  },
  {
   "cell_type": "markdown",
   "metadata": {},
   "source": [
    "##### Total data volume (in Bytes) during this session for each application\n"
   ]
  },
  {
   "cell_type": "code",
   "execution_count": 141,
   "metadata": {},
   "outputs": [],
   "source": [
    "df[\"social_media\"] = df[\"social_media_dl_(bytes)\"] + df['social_media_ul_(bytes)']\n",
    "df[\"google\"] = df[\"google_dl_(bytes)\"] + df[\"google_ul_(bytes)\"]\n",
    "df['email'] = df[\"email_dl_(bytes)\"] + df[\"email_ul_(bytes)\"]\n",
    "df['youtube'] = df[\"youtube_dl_(bytes)\"] + df[\"youtube_ul_(bytes)\"]\n",
    "df['netflix'] = df[\"netflix_dl_(bytes)\"] + df[\"netflix_ul_(bytes)\"]\n",
    "df[\"gaming\"] = df[\"gaming_dl_(bytes)\"] + df[\"gaming_ul_(bytes)\"]\n",
    "df['other'] = df[\"other_dl_(bytes)\"]+df[\"other_ul_(bytes)\"]\n",
    "df['total_data'] = df['total_dl_(bytes)'] + df['total_ul_(bytes)']"
   ]
  },
  {
   "cell_type": "code",
   "execution_count": 142,
   "metadata": {},
   "outputs": [
    {
     "data": {
      "text/plain": [
       "Index(['bearer_id', 'start', 'start_ms', 'end', 'end_ms', 'dur._(ms)', 'imsi',\n",
       "       'msisdn/number', 'imei', 'last_location_name', 'avg_rtt_dl_(ms)',\n",
       "       'avg_rtt_ul_(ms)', 'avg_bearer_tp_dl_(kbps)', 'avg_bearer_tp_ul_(kbps)',\n",
       "       'tcp_dl_retrans._vol_(bytes)', 'tcp_ul_retrans._vol_(bytes)',\n",
       "       'dl_tp_<_50_kbps_(%)', '50_kbps_<_dl_tp_<_250_kbps_(%)',\n",
       "       '250_kbps_<_dl_tp_<_1_mbps_(%)', 'dl_tp_>_1_mbps_(%)',\n",
       "       'ul_tp_<_10_kbps_(%)', '10_kbps_<_ul_tp_<_50_kbps_(%)',\n",
       "       '50_kbps_<_ul_tp_<_300_kbps_(%)', 'ul_tp_>_300_kbps_(%)',\n",
       "       'http_dl_(bytes)', 'http_ul_(bytes)', 'activity_duration_dl_(ms)',\n",
       "       'activity_duration_ul_(ms)', 'dur._(ms).1', 'handset_manufacturer',\n",
       "       'handset_type', 'nb_of_sec_with_125000b_<_vol_dl',\n",
       "       'nb_of_sec_with_1250b_<_vol_ul_<_6250b',\n",
       "       'nb_of_sec_with_31250b_<_vol_dl_<_125000b',\n",
       "       'nb_of_sec_with_37500b_<_vol_ul',\n",
       "       'nb_of_sec_with_6250b_<_vol_dl_<_31250b',\n",
       "       'nb_of_sec_with_6250b_<_vol_ul_<_37500b',\n",
       "       'nb_of_sec_with_vol_dl_<_6250b', 'nb_of_sec_with_vol_ul_<_1250b',\n",
       "       'social_media_dl_(bytes)', 'social_media_ul_(bytes)',\n",
       "       'google_dl_(bytes)', 'google_ul_(bytes)', 'email_dl_(bytes)',\n",
       "       'email_ul_(bytes)', 'youtube_dl_(bytes)', 'youtube_ul_(bytes)',\n",
       "       'netflix_dl_(bytes)', 'netflix_ul_(bytes)', 'gaming_dl_(bytes)',\n",
       "       'gaming_ul_(bytes)', 'other_dl_(bytes)', 'other_ul_(bytes)',\n",
       "       'total_ul_(bytes)', 'total_dl_(bytes)', 'social_media', 'google',\n",
       "       'email', 'youtube', 'netflix', 'gaming', 'other', 'total_data'],\n",
       "      dtype='object')"
      ]
     },
     "execution_count": 142,
     "metadata": {},
     "output_type": "execute_result"
    }
   ],
   "source": [
    "df.columns"
   ]
  },
  {
   "cell_type": "markdown",
   "metadata": {},
   "source": [
    "Aggregate the number of session durations, total session duration, & total data for each user"
   ]
  },
  {
   "cell_type": "code",
   "execution_count": 143,
   "metadata": {},
   "outputs": [],
   "source": [
    "df = df.rename( columns={'bearer_id': 'sessions'})"
   ]
  },
  {
   "cell_type": "code",
   "execution_count": 144,
   "metadata": {},
   "outputs": [],
   "source": [
    "user_engagement = df.groupby('msisdn/number').agg({'sessions': 'count', 'dur._(ms)': 'sum', 'total_data': 'sum'})"
   ]
  },
  {
   "cell_type": "code",
   "execution_count": 145,
   "metadata": {},
   "outputs": [
    {
     "data": {
      "text/html": [
       "<div>\n",
       "<style scoped>\n",
       "    .dataframe tbody tr th:only-of-type {\n",
       "        vertical-align: middle;\n",
       "    }\n",
       "\n",
       "    .dataframe tbody tr th {\n",
       "        vertical-align: top;\n",
       "    }\n",
       "\n",
       "    .dataframe thead th {\n",
       "        text-align: right;\n",
       "    }\n",
       "</style>\n",
       "<table border=\"1\" class=\"dataframe\">\n",
       "  <thead>\n",
       "    <tr style=\"text-align: right;\">\n",
       "      <th></th>\n",
       "      <th>sessions</th>\n",
       "      <th>dur._(ms)</th>\n",
       "      <th>total_data</th>\n",
       "    </tr>\n",
       "    <tr>\n",
       "      <th>msisdn/number</th>\n",
       "      <th></th>\n",
       "      <th></th>\n",
       "      <th></th>\n",
       "    </tr>\n",
       "  </thead>\n",
       "  <tbody>\n",
       "    <tr>\n",
       "      <th>3.360100e+10</th>\n",
       "      <td>1</td>\n",
       "      <td>0.502300</td>\n",
       "      <td>1.751134</td>\n",
       "    </tr>\n",
       "    <tr>\n",
       "      <th>3.360100e+10</th>\n",
       "      <td>1</td>\n",
       "      <td>0.581407</td>\n",
       "      <td>1.350465</td>\n",
       "    </tr>\n",
       "    <tr>\n",
       "      <th>3.360100e+10</th>\n",
       "      <td>1</td>\n",
       "      <td>0.528418</td>\n",
       "      <td>1.691663</td>\n",
       "    </tr>\n",
       "    <tr>\n",
       "      <th>3.360101e+10</th>\n",
       "      <td>1</td>\n",
       "      <td>0.349441</td>\n",
       "      <td>1.425098</td>\n",
       "    </tr>\n",
       "    <tr>\n",
       "      <th>3.360101e+10</th>\n",
       "      <td>2</td>\n",
       "      <td>0.343253</td>\n",
       "      <td>3.558224</td>\n",
       "    </tr>\n",
       "  </tbody>\n",
       "</table>\n",
       "</div>"
      ],
      "text/plain": [
       "               sessions  dur._(ms)  total_data\n",
       "msisdn/number                                 \n",
       "3.360100e+10          1   0.502300    1.751134\n",
       "3.360100e+10          1   0.581407    1.350465\n",
       "3.360100e+10          1   0.528418    1.691663\n",
       "3.360101e+10          1   0.349441    1.425098\n",
       "3.360101e+10          2   0.343253    3.558224"
      ]
     },
     "execution_count": 145,
     "metadata": {},
     "output_type": "execute_result"
    }
   ],
   "source": [
    "user_engagement.head()"
   ]
  },
  {
   "cell_type": "markdown",
   "metadata": {},
   "source": [
    "#### 2.1 Users data analysis"
   ]
  },
  {
   "cell_type": "markdown",
   "metadata": {},
   "source": [
    "Get the top 10 users with the highest total data volume, sessions, & session duration"
   ]
  },
  {
   "cell_type": "markdown",
   "metadata": {},
   "source": [
    "Aggregate the above metrics per customer id (MSISDN) and report the top 10 customers per engagement metric \n"
   ]
  },
  {
   "cell_type": "code",
   "execution_count": 146,
   "metadata": {},
   "outputs": [
    {
     "data": {
      "text/plain": [
       "(106856, 3)"
      ]
     },
     "execution_count": 146,
     "metadata": {},
     "output_type": "execute_result"
    }
   ],
   "source": [
    "user_engagement.shape"
   ]
  },
  {
   "cell_type": "code",
   "execution_count": 147,
   "metadata": {},
   "outputs": [],
   "source": [
    "# user_engagement = user_engagement[user_engagement.index.str.contains(\"3.366371e+10\") == False]\n",
    "user_engagement.drop(33663706799.0, axis=0, inplace=True)"
   ]
  },
  {
   "cell_type": "code",
   "execution_count": 148,
   "metadata": {},
   "outputs": [],
   "source": [
    "sessions = user_engagement.nlargest(10, \"sessions\")['sessions']\n",
    "duration = user_engagement.nlargest(10, \"dur._(ms)\")['dur._(ms)']\n",
    "total_data = user_engagement.nlargest(10, \"total_data\")['total_data']\n"
   ]
  },
  {
   "cell_type": "code",
   "execution_count": 149,
   "metadata": {},
   "outputs": [],
   "source": [
    "sesssions_df = pd.DataFrame()\n",
    "sesssions_df['User_ID'] = sessions.index\n",
    "sesssions_df['Sessions'] = sessions.values\n",
    "durations_df = pd.DataFrame()\n",
    "durations_df['User_ID'] = duration.index\n",
    "durations_df['duration'] = duration.values\n",
    "total_data_df = pd.DataFrame()\n",
    "total_data_df['User_ID'] = total_data.index\n",
    "total_data_df['total_data'] = total_data.values"
   ]
  },
  {
   "cell_type": "code",
   "execution_count": 150,
   "metadata": {},
   "outputs": [
    {
     "data": {
      "text/html": [
       "<div>\n",
       "<style scoped>\n",
       "    .dataframe tbody tr th:only-of-type {\n",
       "        vertical-align: middle;\n",
       "    }\n",
       "\n",
       "    .dataframe tbody tr th {\n",
       "        vertical-align: top;\n",
       "    }\n",
       "\n",
       "    .dataframe thead th {\n",
       "        text-align: right;\n",
       "    }\n",
       "</style>\n",
       "<table border=\"1\" class=\"dataframe\">\n",
       "  <thead>\n",
       "    <tr style=\"text-align: right;\">\n",
       "      <th></th>\n",
       "      <th>User_ID</th>\n",
       "      <th>Sessions</th>\n",
       "    </tr>\n",
       "  </thead>\n",
       "  <tbody>\n",
       "    <tr>\n",
       "      <th>0</th>\n",
       "      <td>3.362632e+10</td>\n",
       "      <td>18</td>\n",
       "    </tr>\n",
       "    <tr>\n",
       "      <th>1</th>\n",
       "      <td>3.361489e+10</td>\n",
       "      <td>17</td>\n",
       "    </tr>\n",
       "    <tr>\n",
       "      <th>2</th>\n",
       "      <td>3.362578e+10</td>\n",
       "      <td>17</td>\n",
       "    </tr>\n",
       "    <tr>\n",
       "      <th>3</th>\n",
       "      <td>3.365973e+10</td>\n",
       "      <td>16</td>\n",
       "    </tr>\n",
       "    <tr>\n",
       "      <th>4</th>\n",
       "      <td>3.367588e+10</td>\n",
       "      <td>15</td>\n",
       "    </tr>\n",
       "  </tbody>\n",
       "</table>\n",
       "</div>"
      ],
      "text/plain": [
       "        User_ID  Sessions\n",
       "0  3.362632e+10        18\n",
       "1  3.361489e+10        17\n",
       "2  3.362578e+10        17\n",
       "3  3.365973e+10        16\n",
       "4  3.367588e+10        15"
      ]
     },
     "execution_count": 150,
     "metadata": {},
     "output_type": "execute_result"
    }
   ],
   "source": [
    "sesssions_df.head()"
   ]
  },
  {
   "cell_type": "code",
   "execution_count": 151,
   "metadata": {},
   "outputs": [
    {
     "data": {
      "text/html": [
       "<div>\n",
       "<style scoped>\n",
       "    .dataframe tbody tr th:only-of-type {\n",
       "        vertical-align: middle;\n",
       "    }\n",
       "\n",
       "    .dataframe tbody tr th {\n",
       "        vertical-align: top;\n",
       "    }\n",
       "\n",
       "    .dataframe thead th {\n",
       "        text-align: right;\n",
       "    }\n",
       "</style>\n",
       "<table border=\"1\" class=\"dataframe\">\n",
       "  <thead>\n",
       "    <tr style=\"text-align: right;\">\n",
       "      <th></th>\n",
       "      <th>User_ID</th>\n",
       "      <th>duration</th>\n",
       "    </tr>\n",
       "  </thead>\n",
       "  <tbody>\n",
       "    <tr>\n",
       "      <th>0</th>\n",
       "      <td>3.362578e+10</td>\n",
       "      <td>14.843524</td>\n",
       "    </tr>\n",
       "    <tr>\n",
       "      <th>1</th>\n",
       "      <td>3.362632e+10</td>\n",
       "      <td>12.989967</td>\n",
       "    </tr>\n",
       "    <tr>\n",
       "      <th>2</th>\n",
       "      <td>3.361489e+10</td>\n",
       "      <td>12.871815</td>\n",
       "    </tr>\n",
       "    <tr>\n",
       "      <th>3</th>\n",
       "      <td>3.376054e+10</td>\n",
       "      <td>11.266070</td>\n",
       "    </tr>\n",
       "    <tr>\n",
       "      <th>4</th>\n",
       "      <td>3.366716e+10</td>\n",
       "      <td>10.296854</td>\n",
       "    </tr>\n",
       "  </tbody>\n",
       "</table>\n",
       "</div>"
      ],
      "text/plain": [
       "        User_ID   duration\n",
       "0  3.362578e+10  14.843524\n",
       "1  3.362632e+10  12.989967\n",
       "2  3.361489e+10  12.871815\n",
       "3  3.376054e+10  11.266070\n",
       "4  3.366716e+10  10.296854"
      ]
     },
     "execution_count": 151,
     "metadata": {},
     "output_type": "execute_result"
    }
   ],
   "source": [
    "durations_df.head()\n"
   ]
  },
  {
   "cell_type": "code",
   "execution_count": 134,
   "metadata": {},
   "outputs": [
    {
     "data": {
      "text/html": [
       "<div>\n",
       "<style scoped>\n",
       "    .dataframe tbody tr th:only-of-type {\n",
       "        vertical-align: middle;\n",
       "    }\n",
       "\n",
       "    .dataframe tbody tr th {\n",
       "        vertical-align: top;\n",
       "    }\n",
       "\n",
       "    .dataframe thead th {\n",
       "        text-align: right;\n",
       "    }\n",
       "</style>\n",
       "<table border=\"1\" class=\"dataframe\">\n",
       "  <thead>\n",
       "    <tr style=\"text-align: right;\">\n",
       "      <th></th>\n",
       "      <th>User_ID</th>\n",
       "      <th>total_data</th>\n",
       "    </tr>\n",
       "  </thead>\n",
       "  <tbody>\n",
       "    <tr>\n",
       "      <th>0</th>\n",
       "      <td>3.361489e+10</td>\n",
       "      <td>8.846226e+09</td>\n",
       "    </tr>\n",
       "    <tr>\n",
       "      <th>1</th>\n",
       "      <td>3.376054e+10</td>\n",
       "      <td>8.514774e+09</td>\n",
       "    </tr>\n",
       "    <tr>\n",
       "      <th>2</th>\n",
       "      <td>3.362578e+10</td>\n",
       "      <td>8.499621e+09</td>\n",
       "    </tr>\n",
       "    <tr>\n",
       "      <th>3</th>\n",
       "      <td>3.362632e+10</td>\n",
       "      <td>7.971167e+09</td>\n",
       "    </tr>\n",
       "    <tr>\n",
       "      <th>4</th>\n",
       "      <td>3.367588e+10</td>\n",
       "      <td>7.891111e+09</td>\n",
       "    </tr>\n",
       "  </tbody>\n",
       "</table>\n",
       "</div>"
      ],
      "text/plain": [
       "        User_ID    total_data\n",
       "0  3.361489e+10  8.846226e+09\n",
       "1  3.376054e+10  8.514774e+09\n",
       "2  3.362578e+10  8.499621e+09\n",
       "3  3.362632e+10  7.971167e+09\n",
       "4  3.367588e+10  7.891111e+09"
      ]
     },
     "execution_count": 134,
     "metadata": {},
     "output_type": "execute_result"
    }
   ],
   "source": [
    "total_data_df.head()"
   ]
  },
  {
   "cell_type": "code",
   "execution_count": 152,
   "metadata": {},
   "outputs": [
    {
     "data": {
      "text/plain": [
       "[Text(0, 0, '33614892860.0'),\n",
       " Text(1, 0, '33625779332.0'),\n",
       " Text(2, 0, '33626320676.0'),\n",
       " Text(3, 0, '33659725664.0'),\n",
       " Text(4, 0, '33667163239.0'),\n",
       " Text(5, 0, '33675877202.0'),\n",
       " Text(6, 0, '33698792269.0'),\n",
       " Text(7, 0, '33760413819.0'),\n",
       " Text(8, 0, '33760536639.0'),\n",
       " Text(9, 0, '33786323068.0')]"
      ]
     },
     "execution_count": 152,
     "metadata": {},
     "output_type": "execute_result"
    },
    {
     "data": {
      "image/png": "[encoded data removed]",
      "text/plain": [
       "<Figure size 1800x360 with 3 Axes>"
      ]
     },
     "metadata": {
      "needs_background": "light"
     },
     "output_type": "display_data"
    }
   ],
   "source": [
    "f, axes = plt.subplots(1, 3, figsize=(25, 5))\n",
    "ax1 = sns.barplot(data=sesssions_df, x='User_ID', orient='v', y='Sessions', ax=axes[0])\n",
    "ax2 = sns.barplot(data=durations_df, x='User_ID',orient='v', y='duration', ax=axes[1])\n",
    "ax3 = sns.barplot(data=total_data_df, x='User_ID',orient='v', y='total_data', ax=axes[2])\n",
    "ax1.set_xticklabels(ax1.xaxis.get_majorticklabels(), rotation=45)\n",
    "ax2.set_xticklabels(ax2.xaxis.get_majorticklabels(), rotation=45)\n",
    "ax3.set_xticklabels(ax3.xaxis.get_majorticklabels(), rotation=45)\n"
   ]
  },
  {
   "cell_type": "markdown",
   "metadata": {},
   "source": [
    "Normalize each engagement metric and run a k-means (k=3) to classify customers in three groups of engagement. \n"
   ]
  },
  {
   "cell_type": "code",
   "execution_count": 181,
   "metadata": {},
   "outputs": [],
   "source": [
    "from sklearn.preprocessing import Normalizer\n",
    "\n",
    "def normalizer(df, columns):\n",
    "    norm = Normalizer()\n",
    "    # normalize the exponential data with boxcox\n",
    "    normalized_data = norm.fit_transform(df)\n",
    "\n",
    "    # plot both together to compare\n",
    "    fig, ax=plt.subplots(1,2, figsize=(10, 6))\n",
    "    sns.histplot(df, ax=ax[0])\n",
    "    ax[0].set_title(\"Original Data\")\n",
    "    sns.histplot(normalized_data[0], ax=ax[1])\n",
    "    ax[1].set_title(\"Normalized data\")\n",
    "    return pd.DataFrame(norm.fit_transform(df), columns=columns)"
   ]
  },
  {
   "cell_type": "code",
   "execution_count": 185,
   "metadata": {},
   "outputs": [
    {
     "data": {
      "image/png": "[encoded data removed]",
      "text/plain": [
       "<Figure size 720x432 with 2 Axes>"
      ]
     },
     "metadata": {
      "needs_background": "light"
     },
     "output_type": "display_data"
    }
   ],
   "source": [
    "normalized_user_engagement = normalizer(user_engagement, ['sessions', 'dur._(ms)', 'total_data'] )"
   ]
  },
  {
   "cell_type": "code",
   "execution_count": 186,
   "metadata": {},
   "outputs": [
    {
     "data": {
      "text/html": [
       "<div>\n",
       "<style scoped>\n",
       "    .dataframe tbody tr th:only-of-type {\n",
       "        vertical-align: middle;\n",
       "    }\n",
       "\n",
       "    .dataframe tbody tr th {\n",
       "        vertical-align: top;\n",
       "    }\n",
       "\n",
       "    .dataframe thead th {\n",
       "        text-align: right;\n",
       "    }\n",
       "</style>\n",
       "<table border=\"1\" class=\"dataframe\">\n",
       "  <thead>\n",
       "    <tr style=\"text-align: right;\">\n",
       "      <th></th>\n",
       "      <th>sessions</th>\n",
       "      <th>dur._(ms)</th>\n",
       "      <th>total_data</th>\n",
       "    </tr>\n",
       "  </thead>\n",
       "  <tbody>\n",
       "    <tr>\n",
       "      <th>0</th>\n",
       "      <td>0.481193</td>\n",
       "      <td>0.241704</td>\n",
       "      <td>0.842634</td>\n",
       "    </tr>\n",
       "    <tr>\n",
       "      <th>1</th>\n",
       "      <td>0.562385</td>\n",
       "      <td>0.326974</td>\n",
       "      <td>0.759481</td>\n",
       "    </tr>\n",
       "    <tr>\n",
       "      <th>2</th>\n",
       "      <td>0.491417</td>\n",
       "      <td>0.259674</td>\n",
       "      <td>0.831312</td>\n",
       "    </tr>\n",
       "    <tr>\n",
       "      <th>3</th>\n",
       "      <td>0.563167</td>\n",
       "      <td>0.196794</td>\n",
       "      <td>0.802568</td>\n",
       "    </tr>\n",
       "    <tr>\n",
       "      <th>4</th>\n",
       "      <td>0.488258</td>\n",
       "      <td>0.083798</td>\n",
       "      <td>0.868667</td>\n",
       "    </tr>\n",
       "  </tbody>\n",
       "</table>\n",
       "</div>"
      ],
      "text/plain": [
       "   sessions  dur._(ms)  total_data\n",
       "0  0.481193   0.241704    0.842634\n",
       "1  0.562385   0.326974    0.759481\n",
       "2  0.491417   0.259674    0.831312\n",
       "3  0.563167   0.196794    0.802568\n",
       "4  0.488258   0.083798    0.868667"
      ]
     },
     "execution_count": 186,
     "metadata": {},
     "output_type": "execute_result"
    }
   ],
   "source": [
    "normalized_user_engagement.head()"
   ]
  },
  {
   "cell_type": "code",
   "execution_count": 187,
   "metadata": {},
   "outputs": [
    {
     "data": {
      "text/html": [
       "<div>\n",
       "<style scoped>\n",
       "    .dataframe tbody tr th:only-of-type {\n",
       "        vertical-align: middle;\n",
       "    }\n",
       "\n",
       "    .dataframe tbody tr th {\n",
       "        vertical-align: top;\n",
       "    }\n",
       "\n",
       "    .dataframe thead th {\n",
       "        text-align: right;\n",
       "    }\n",
       "</style>\n",
       "<table border=\"1\" class=\"dataframe\">\n",
       "  <thead>\n",
       "    <tr style=\"text-align: right;\">\n",
       "      <th></th>\n",
       "      <th>sessions</th>\n",
       "      <th>dur._(ms)</th>\n",
       "      <th>total_data</th>\n",
       "    </tr>\n",
       "  </thead>\n",
       "  <tbody>\n",
       "    <tr>\n",
       "      <th>count</th>\n",
       "      <td>106855.000000</td>\n",
       "      <td>106855.000000</td>\n",
       "      <td>106855.000000</td>\n",
       "    </tr>\n",
       "    <tr>\n",
       "      <th>mean</th>\n",
       "      <td>0.516132</td>\n",
       "      <td>0.223813</td>\n",
       "      <td>0.822405</td>\n",
       "    </tr>\n",
       "    <tr>\n",
       "      <th>std</th>\n",
       "      <td>0.039218</td>\n",
       "      <td>0.067179</td>\n",
       "      <td>0.033396</td>\n",
       "    </tr>\n",
       "    <tr>\n",
       "      <th>min</th>\n",
       "      <td>0.428995</td>\n",
       "      <td>0.000000</td>\n",
       "      <td>0.458651</td>\n",
       "    </tr>\n",
       "    <tr>\n",
       "      <th>25%</th>\n",
       "      <td>0.488358</td>\n",
       "      <td>0.190006</td>\n",
       "      <td>0.807443</td>\n",
       "    </tr>\n",
       "    <tr>\n",
       "      <th>50%</th>\n",
       "      <td>0.508575</td>\n",
       "      <td>0.232999</td>\n",
       "      <td>0.828997</td>\n",
       "    </tr>\n",
       "    <tr>\n",
       "      <th>75%</th>\n",
       "      <td>0.535401</td>\n",
       "      <td>0.267627</td>\n",
       "      <td>0.845068</td>\n",
       "    </tr>\n",
       "    <tr>\n",
       "      <th>max</th>\n",
       "      <td>0.794010</td>\n",
       "      <td>0.511353</td>\n",
       "      <td>0.889744</td>\n",
       "    </tr>\n",
       "  </tbody>\n",
       "</table>\n",
       "</div>"
      ],
      "text/plain": [
       "            sessions      dur._(ms)     total_data\n",
       "count  106855.000000  106855.000000  106855.000000\n",
       "mean        0.516132       0.223813       0.822405\n",
       "std         0.039218       0.067179       0.033396\n",
       "min         0.428995       0.000000       0.458651\n",
       "25%         0.488358       0.190006       0.807443\n",
       "50%         0.508575       0.232999       0.828997\n",
       "75%         0.535401       0.267627       0.845068\n",
       "max         0.794010       0.511353       0.889744"
      ]
     },
     "execution_count": 187,
     "metadata": {},
     "output_type": "execute_result"
    }
   ],
   "source": [
    "normalized_user_engagement.describe()"
   ]
  },
  {
   "cell_type": "code",
   "execution_count": 180,
   "metadata": {},
   "outputs": [
    {
     "data": {
      "image/png": "[encoded data removed]",
      "text/plain": [
       "<Figure size 1080x432 with 2 Axes>"
      ]
     },
     "metadata": {
      "needs_background": "light"
     },
     "output_type": "display_data"
    }
   ],
   "source": [
    "plt.figure(figsize=(15,6))\n",
    "plt.subplot(1,2,1)\n",
    "sns.violinplot(y=user_engagement[\"dur._(ms)\"])\n",
    "# sns.boxplot(y=user_engagement[\"dur._(ms)\"], color=\"red\")\n",
    "plt.subplot(1,2,2)\n",
    "sns.violinplot(y=user_engagement[\"sessions\"])\n",
    "# sns.boxplot(y=user_engagement[\"total_data\"])\n",
    "plt.show()\n"
   ]
  },
  {
   "cell_type": "markdown",
   "metadata": {},
   "source": [
    "Most of the duration,and the number of sessions lies between 1 - 2 "
   ]
  },
  {
   "cell_type": "code",
   "execution_count": null,
   "metadata": {},
   "outputs": [],
   "source": []
  }
 ],
 "metadata": {
  "interpreter": {
   "hash": "75f376effe886d8b51843b632a4b92665fc33b9300797299f553ce70034dd324"
  },
  "kernelspec": {
   "display_name": "Python 3.9.7 ('base')",
   "language": "python",
   "name": "python3"
  },
  "language_info": {
   "codemirror_mode": {
    "name": "ipython",
    "version": 3
   },
   "file_extension": ".py",
   "mimetype": "text/x-python",
   "name": "python",
   "nbconvert_exporter": "python",
   "pygments_lexer": "ipython3",
   "version": "3.9.7"
  },
  "orig_nbformat": 4
 },
 "nbformat": 4,
 "nbformat_minor": 2
}
