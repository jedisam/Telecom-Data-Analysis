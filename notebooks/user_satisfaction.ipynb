{
 "cells": [
  {
   "cell_type": "code",
   "execution_count": 1,
   "metadata": {},
   "outputs": [],
   "source": [
    "%load_ext autoreload\n",
    "%autoreload 2\n"
   ]
  },
  {
   "cell_type": "markdown",
   "metadata": {},
   "source": [
    ">> #### Import required modules"
   ]
  },
  {
   "cell_type": "code",
   "execution_count": 53,
   "metadata": {},
   "outputs": [],
   "source": [
    "import numpy as np\n",
    "import pandas as pd\n",
    "from sklearn.cluster import KMeans\n",
    "from kneed import KneeLocator\n",
    "from sklearn.metrics.pairwise import euclidean_distances\n",
    "from sklearn.preprocessing import StandardScaler, normalize\n",
    "from sklearn.linear_model import LinearRegression\n",
    "from sklearn import model_selection\n",
    "import matplotlib.pyplot as plt\n",
    "import seaborn as sns\n",
    "import pickle\n",
    "import os\n",
    "import sys"
   ]
  },
  {
   "cell_type": "markdown",
   "metadata": {},
   "source": [
    "Ignoring Warnings"
   ]
  },
  {
   "cell_type": "code",
   "execution_count": 3,
   "metadata": {},
   "outputs": [],
   "source": [
    "import warnings\n",
    "warnings.filterwarnings('ignore')\n"
   ]
  },
  {
   "cell_type": "markdown",
   "metadata": {},
   "source": [
    "#### Import modules"
   ]
  },
  {
   "cell_type": "code",
   "execution_count": 4,
   "metadata": {},
   "outputs": [],
   "source": [
    "sys.path.append(os.path.abspath(os.path.join('../scripts')))\n",
    "from preprocessing import PreProcess\n",
    "from overview import Overview\n",
    "from plot import Plot\n",
    "from logger import Logger"
   ]
  },
  {
   "cell_type": "code",
   "execution_count": 5,
   "metadata": {},
   "outputs": [],
   "source": [
    "# Initialize logger\n",
    "logger = Logger(\"userSatisfaction.log\").get_app_logger()\n",
    "logger.info(\"Initialized user satisfaction logger\")"
   ]
  },
  {
   "cell_type": "code",
   "execution_count": 48,
   "metadata": {},
   "outputs": [],
   "source": [
    "# Initialize module\n",
    "pl = Plot()"
   ]
  },
  {
   "cell_type": "markdown",
   "metadata": {},
   "source": [
    "#### Import the Data"
   ]
  },
  {
   "cell_type": "code",
   "execution_count": 6,
   "metadata": {},
   "outputs": [],
   "source": [
    "# df = pd.read_excel('../data/Week1_challenge_data_source.xlsx')\n",
    "df_org = pd.read_csv('../data/cleaned_data_outliers.csv')\n",
    "df = df_org.copy()"
   ]
  },
  {
   "cell_type": "markdown",
   "metadata": {},
   "source": [
    ">> ### Satisfaction Analysis\n"
   ]
  },
  {
   "cell_type": "code",
   "execution_count": 11,
   "metadata": {},
   "outputs": [],
   "source": [
    "# Import user experience data\n",
    "user_exp = pd.read_csv('../data/user_exp.csv')\n",
    "\n",
    "# Import user engagement data\n",
    "user_eng = pd.read_csv('../data/user_eng.csv')"
   ]
  },
  {
   "cell_type": "code",
   "execution_count": 14,
   "metadata": {},
   "outputs": [
    {
     "data": {
      "text/html": [
       "<div>\n",
       "<style scoped>\n",
       "    .dataframe tbody tr th:only-of-type {\n",
       "        vertical-align: middle;\n",
       "    }\n",
       "\n",
       "    .dataframe tbody tr th {\n",
       "        vertical-align: top;\n",
       "    }\n",
       "\n",
       "    .dataframe thead th {\n",
       "        text-align: right;\n",
       "    }\n",
       "</style>\n",
       "<table border=\"1\" class=\"dataframe\">\n",
       "  <thead>\n",
       "    <tr style=\"text-align: right;\">\n",
       "      <th></th>\n",
       "      <th>msisdn/number</th>\n",
       "      <th>cluster</th>\n",
       "      <th>avg_rtt_total</th>\n",
       "      <th>avg_tp_total</th>\n",
       "      <th>total_avg_tcp_total</th>\n",
       "    </tr>\n",
       "  </thead>\n",
       "  <tbody>\n",
       "    <tr>\n",
       "      <th>0</th>\n",
       "      <td>3.360100e+10</td>\n",
       "      <td>1</td>\n",
       "      <td>8.114390</td>\n",
       "      <td>7.274480</td>\n",
       "      <td>1.041044</td>\n",
       "    </tr>\n",
       "    <tr>\n",
       "      <th>1</th>\n",
       "      <td>3.360100e+10</td>\n",
       "      <td>0</td>\n",
       "      <td>3.401197</td>\n",
       "      <td>7.803027</td>\n",
       "      <td>1.041044</td>\n",
       "    </tr>\n",
       "    <tr>\n",
       "      <th>2</th>\n",
       "      <td>3.360100e+10</td>\n",
       "      <td>2</td>\n",
       "      <td>5.416100</td>\n",
       "      <td>7.763021</td>\n",
       "      <td>1.041044</td>\n",
       "    </tr>\n",
       "    <tr>\n",
       "      <th>3</th>\n",
       "      <td>3.360101e+10</td>\n",
       "      <td>2</td>\n",
       "      <td>6.942157</td>\n",
       "      <td>9.102310</td>\n",
       "      <td>0.748804</td>\n",
       "    </tr>\n",
       "    <tr>\n",
       "      <th>4</th>\n",
       "      <td>3.360101e+10</td>\n",
       "      <td>0</td>\n",
       "      <td>8.114390</td>\n",
       "      <td>27.135851</td>\n",
       "      <td>2.212931</td>\n",
       "    </tr>\n",
       "  </tbody>\n",
       "</table>\n",
       "</div>"
      ],
      "text/plain": [
       "   msisdn/number  cluster  avg_rtt_total  avg_tp_total  total_avg_tcp_total\n",
       "0   3.360100e+10        1       8.114390      7.274480             1.041044\n",
       "1   3.360100e+10        0       3.401197      7.803027             1.041044\n",
       "2   3.360100e+10        2       5.416100      7.763021             1.041044\n",
       "3   3.360101e+10        2       6.942157      9.102310             0.748804\n",
       "4   3.360101e+10        0       8.114390     27.135851             2.212931"
      ]
     },
     "execution_count": 14,
     "metadata": {},
     "output_type": "execute_result"
    }
   ],
   "source": [
    "user_exp.head()"
   ]
  },
  {
   "cell_type": "markdown",
   "metadata": {},
   "source": [
    "Engagement Score calculation"
   ]
  },
  {
   "cell_type": "code",
   "execution_count": 15,
   "metadata": {},
   "outputs": [
    {
     "data": {
      "text/html": [
       "<div>\n",
       "<style scoped>\n",
       "    .dataframe tbody tr th:only-of-type {\n",
       "        vertical-align: middle;\n",
       "    }\n",
       "\n",
       "    .dataframe tbody tr th {\n",
       "        vertical-align: top;\n",
       "    }\n",
       "\n",
       "    .dataframe thead th {\n",
       "        text-align: right;\n",
       "    }\n",
       "</style>\n",
       "<table border=\"1\" class=\"dataframe\">\n",
       "  <thead>\n",
       "    <tr style=\"text-align: right;\">\n",
       "      <th></th>\n",
       "      <th>msisdn/number</th>\n",
       "      <th>cluster</th>\n",
       "      <th>sessions</th>\n",
       "      <th>dur._(ms)</th>\n",
       "      <th>total_data</th>\n",
       "    </tr>\n",
       "  </thead>\n",
       "  <tbody>\n",
       "    <tr>\n",
       "      <th>0</th>\n",
       "      <td>3.360100e+10</td>\n",
       "      <td>1</td>\n",
       "      <td>1</td>\n",
       "      <td>0.502300</td>\n",
       "      <td>1.751134</td>\n",
       "    </tr>\n",
       "    <tr>\n",
       "      <th>1</th>\n",
       "      <td>3.360100e+10</td>\n",
       "      <td>2</td>\n",
       "      <td>1</td>\n",
       "      <td>0.581407</td>\n",
       "      <td>1.350465</td>\n",
       "    </tr>\n",
       "    <tr>\n",
       "      <th>2</th>\n",
       "      <td>3.360100e+10</td>\n",
       "      <td>1</td>\n",
       "      <td>1</td>\n",
       "      <td>0.528418</td>\n",
       "      <td>1.691663</td>\n",
       "    </tr>\n",
       "    <tr>\n",
       "      <th>3</th>\n",
       "      <td>3.360101e+10</td>\n",
       "      <td>1</td>\n",
       "      <td>1</td>\n",
       "      <td>0.349441</td>\n",
       "      <td>1.425098</td>\n",
       "    </tr>\n",
       "    <tr>\n",
       "      <th>4</th>\n",
       "      <td>3.360101e+10</td>\n",
       "      <td>0</td>\n",
       "      <td>2</td>\n",
       "      <td>0.343253</td>\n",
       "      <td>3.558224</td>\n",
       "    </tr>\n",
       "  </tbody>\n",
       "</table>\n",
       "</div>"
      ],
      "text/plain": [
       "   msisdn/number  cluster  sessions  dur._(ms)  total_data\n",
       "0   3.360100e+10        1         1   0.502300    1.751134\n",
       "1   3.360100e+10        2         1   0.581407    1.350465\n",
       "2   3.360100e+10        1         1   0.528418    1.691663\n",
       "3   3.360101e+10        1         1   0.349441    1.425098\n",
       "4   3.360101e+10        0         2   0.343253    3.558224"
      ]
     },
     "execution_count": 15,
     "metadata": {},
     "output_type": "execute_result"
    }
   ],
   "source": [
    "user_eng.head()"
   ]
  },
  {
   "cell_type": "code",
   "execution_count": 18,
   "metadata": {},
   "outputs": [],
   "source": [
    "with open(\"../models/user_eng.pkl\", \"rb\") as f:\n",
    "    kmeans1 = pickle.load(f)\n",
    "    \n",
    "with open(\"../models/user_exp.pkl\", \"rb\") as f:\n",
    "    kmeans2 = pickle.load(f)\n"
   ]
  },
  {
   "cell_type": "markdown",
   "metadata": {},
   "source": [
    "Calculating distance between centroids"
   ]
  },
  {
   "cell_type": "code",
   "execution_count": 23,
   "metadata": {},
   "outputs": [
    {
     "data": {
      "text/html": [
       "<div>\n",
       "<style scoped>\n",
       "    .dataframe tbody tr th:only-of-type {\n",
       "        vertical-align: middle;\n",
       "    }\n",
       "\n",
       "    .dataframe tbody tr th {\n",
       "        vertical-align: top;\n",
       "    }\n",
       "\n",
       "    .dataframe thead th {\n",
       "        text-align: right;\n",
       "    }\n",
       "</style>\n",
       "<table border=\"1\" class=\"dataframe\">\n",
       "  <thead>\n",
       "    <tr style=\"text-align: right;\">\n",
       "      <th></th>\n",
       "      <th>0</th>\n",
       "      <th>1</th>\n",
       "      <th>2</th>\n",
       "    </tr>\n",
       "  </thead>\n",
       "  <tbody>\n",
       "    <tr>\n",
       "      <th>0</th>\n",
       "      <td>-0.488567</td>\n",
       "      <td>-0.250278</td>\n",
       "      <td>-0.371545</td>\n",
       "    </tr>\n",
       "    <tr>\n",
       "      <th>1</th>\n",
       "      <td>-0.488567</td>\n",
       "      <td>-0.071293</td>\n",
       "      <td>-0.677576</td>\n",
       "    </tr>\n",
       "    <tr>\n",
       "      <th>2</th>\n",
       "      <td>-0.488567</td>\n",
       "      <td>-0.191184</td>\n",
       "      <td>-0.416969</td>\n",
       "    </tr>\n",
       "    <tr>\n",
       "      <th>3</th>\n",
       "      <td>-0.488567</td>\n",
       "      <td>-0.596133</td>\n",
       "      <td>-0.620571</td>\n",
       "    </tr>\n",
       "    <tr>\n",
       "      <th>4</th>\n",
       "      <td>0.752095</td>\n",
       "      <td>-0.610134</td>\n",
       "      <td>1.008707</td>\n",
       "    </tr>\n",
       "  </tbody>\n",
       "</table>\n",
       "</div>"
      ],
      "text/plain": [
       "          0         1         2\n",
       "0 -0.488567 -0.250278 -0.371545\n",
       "1 -0.488567 -0.071293 -0.677576\n",
       "2 -0.488567 -0.191184 -0.416969\n",
       "3 -0.488567 -0.596133 -0.620571\n",
       "4  0.752095 -0.610134  1.008707"
      ]
     },
     "execution_count": 23,
     "metadata": {},
     "output_type": "execute_result"
    }
   ],
   "source": [
    "user_eng_df = user_eng.set_index('msisdn/number')[\n",
    "    ['sessions','dur._(ms)', 'total_data']]\n",
    "scaler = StandardScaler()\n",
    "scaled_array = scaler.fit_transform(user_eng_df)\n",
    "pd.DataFrame(scaled_array).head(5)\n"
   ]
  },
  {
   "cell_type": "code",
   "execution_count": 25,
   "metadata": {},
   "outputs": [
    {
     "data": {
      "text/html": [
       "<div>\n",
       "<style scoped>\n",
       "    .dataframe tbody tr th:only-of-type {\n",
       "        vertical-align: middle;\n",
       "    }\n",
       "\n",
       "    .dataframe tbody tr th {\n",
       "        vertical-align: top;\n",
       "    }\n",
       "\n",
       "    .dataframe thead th {\n",
       "        text-align: right;\n",
       "    }\n",
       "</style>\n",
       "<table border=\"1\" class=\"dataframe\">\n",
       "  <thead>\n",
       "    <tr style=\"text-align: right;\">\n",
       "      <th></th>\n",
       "      <th>0</th>\n",
       "      <th>1</th>\n",
       "      <th>2</th>\n",
       "    </tr>\n",
       "  </thead>\n",
       "  <tbody>\n",
       "    <tr>\n",
       "      <th>0</th>\n",
       "      <td>-0.737060</td>\n",
       "      <td>-0.377573</td>\n",
       "      <td>-0.560519</td>\n",
       "    </tr>\n",
       "    <tr>\n",
       "      <th>1</th>\n",
       "      <td>-0.582748</td>\n",
       "      <td>-0.085037</td>\n",
       "      <td>-0.808192</td>\n",
       "    </tr>\n",
       "    <tr>\n",
       "      <th>2</th>\n",
       "      <td>-0.729032</td>\n",
       "      <td>-0.285282</td>\n",
       "      <td>-0.622195</td>\n",
       "    </tr>\n",
       "    <tr>\n",
       "      <th>3</th>\n",
       "      <td>-0.493734</td>\n",
       "      <td>-0.602437</td>\n",
       "      <td>-0.627134</td>\n",
       "    </tr>\n",
       "    <tr>\n",
       "      <th>4</th>\n",
       "      <td>0.537843</td>\n",
       "      <td>-0.436322</td>\n",
       "      <td>0.721352</td>\n",
       "    </tr>\n",
       "  </tbody>\n",
       "</table>\n",
       "</div>"
      ],
      "text/plain": [
       "          0         1         2\n",
       "0 -0.737060 -0.377573 -0.560519\n",
       "1 -0.582748 -0.085037 -0.808192\n",
       "2 -0.729032 -0.285282 -0.622195\n",
       "3 -0.493734 -0.602437 -0.627134\n",
       "4  0.537843 -0.436322  0.721352"
      ]
     },
     "execution_count": 25,
     "metadata": {},
     "output_type": "execute_result"
    }
   ],
   "source": [
    "data_normalized = normalize(scaled_array)\n",
    "pd.DataFrame(data_normalized).head(5)"
   ]
  },
  {
   "cell_type": "code",
   "execution_count": 26,
   "metadata": {},
   "outputs": [
    {
     "data": {
      "text/html": [
       "<div>\n",
       "<style scoped>\n",
       "    .dataframe tbody tr th:only-of-type {\n",
       "        vertical-align: middle;\n",
       "    }\n",
       "\n",
       "    .dataframe tbody tr th {\n",
       "        vertical-align: top;\n",
       "    }\n",
       "\n",
       "    .dataframe thead th {\n",
       "        text-align: right;\n",
       "    }\n",
       "</style>\n",
       "<table border=\"1\" class=\"dataframe\">\n",
       "  <thead>\n",
       "    <tr style=\"text-align: right;\">\n",
       "      <th></th>\n",
       "      <th>msisdn/number</th>\n",
       "      <th>cluster</th>\n",
       "      <th>sessions</th>\n",
       "      <th>dur._(ms)</th>\n",
       "      <th>total_data</th>\n",
       "      <th>engagement_score</th>\n",
       "    </tr>\n",
       "  </thead>\n",
       "  <tbody>\n",
       "    <tr>\n",
       "      <th>0</th>\n",
       "      <td>3.360100e+10</td>\n",
       "      <td>1</td>\n",
       "      <td>1</td>\n",
       "      <td>0.502300</td>\n",
       "      <td>1.751134</td>\n",
       "      <td>0.587683</td>\n",
       "    </tr>\n",
       "    <tr>\n",
       "      <th>1</th>\n",
       "      <td>3.360100e+10</td>\n",
       "      <td>2</td>\n",
       "      <td>1</td>\n",
       "      <td>0.581407</td>\n",
       "      <td>1.350465</td>\n",
       "      <td>0.884572</td>\n",
       "    </tr>\n",
       "    <tr>\n",
       "      <th>2</th>\n",
       "      <td>3.360100e+10</td>\n",
       "      <td>1</td>\n",
       "      <td>1</td>\n",
       "      <td>0.528418</td>\n",
       "      <td>1.691663</td>\n",
       "      <td>0.678922</td>\n",
       "    </tr>\n",
       "    <tr>\n",
       "      <th>3</th>\n",
       "      <td>3.360101e+10</td>\n",
       "      <td>1</td>\n",
       "      <td>1</td>\n",
       "      <td>0.349441</td>\n",
       "      <td>1.425098</td>\n",
       "      <td>0.359218</td>\n",
       "    </tr>\n",
       "    <tr>\n",
       "      <th>4</th>\n",
       "      <td>3.360101e+10</td>\n",
       "      <td>0</td>\n",
       "      <td>2</td>\n",
       "      <td>0.343253</td>\n",
       "      <td>3.558224</td>\n",
       "      <td>1.495776</td>\n",
       "    </tr>\n",
       "  </tbody>\n",
       "</table>\n",
       "</div>"
      ],
      "text/plain": [
       "   msisdn/number  cluster  sessions  dur._(ms)  total_data  engagement_score\n",
       "0   3.360100e+10        1         1   0.502300    1.751134          0.587683\n",
       "1   3.360100e+10        2         1   0.581407    1.350465          0.884572\n",
       "2   3.360100e+10        1         1   0.528418    1.691663          0.678922\n",
       "3   3.360101e+10        1         1   0.349441    1.425098          0.359218\n",
       "4   3.360101e+10        0         2   0.343253    3.558224          1.495776"
      ]
     },
     "execution_count": 26,
     "metadata": {},
     "output_type": "execute_result"
    }
   ],
   "source": [
    "distance = kmeans1.fit_transform(data_normalized)\n",
    "distance_from_less_engagement = list(\n",
    "    map(lambda x: x[3], distance))\n",
    "user_eng['engagement_score'] = distance_from_less_engagement\n",
    "user_eng.head(5)"
   ]
  },
  {
   "cell_type": "code",
   "execution_count": 35,
   "metadata": {},
   "outputs": [
    {
     "data": {
      "text/plain": [
       "106855"
      ]
     },
     "execution_count": 35,
     "metadata": {},
     "output_type": "execute_result"
    }
   ],
   "source": [
    "len(user_expr)"
   ]
  },
  {
   "cell_type": "code",
   "execution_count": 32,
   "metadata": {},
   "outputs": [],
   "source": [
    "user_expr = user_exp.copy()\n",
    "user_expr.drop([106855], axis=0, inplace=True)"
   ]
  },
  {
   "cell_type": "code",
   "execution_count": 36,
   "metadata": {},
   "outputs": [
    {
     "data": {
      "text/html": [
       "<div>\n",
       "<style scoped>\n",
       "    .dataframe tbody tr th:only-of-type {\n",
       "        vertical-align: middle;\n",
       "    }\n",
       "\n",
       "    .dataframe tbody tr th {\n",
       "        vertical-align: top;\n",
       "    }\n",
       "\n",
       "    .dataframe thead th {\n",
       "        text-align: right;\n",
       "    }\n",
       "</style>\n",
       "<table border=\"1\" class=\"dataframe\">\n",
       "  <thead>\n",
       "    <tr style=\"text-align: right;\">\n",
       "      <th></th>\n",
       "      <th>msisdn/number</th>\n",
       "      <th>cluster</th>\n",
       "      <th>avg_rtt_total</th>\n",
       "      <th>avg_tp_total</th>\n",
       "      <th>total_avg_tcp_total</th>\n",
       "      <th>experience_score</th>\n",
       "    </tr>\n",
       "  </thead>\n",
       "  <tbody>\n",
       "    <tr>\n",
       "      <th>0</th>\n",
       "      <td>3.360100e+10</td>\n",
       "      <td>1</td>\n",
       "      <td>8.114390</td>\n",
       "      <td>7.274480</td>\n",
       "      <td>1.041044</td>\n",
       "      <td>0.331257</td>\n",
       "    </tr>\n",
       "    <tr>\n",
       "      <th>1</th>\n",
       "      <td>3.360100e+10</td>\n",
       "      <td>0</td>\n",
       "      <td>3.401197</td>\n",
       "      <td>7.803027</td>\n",
       "      <td>1.041044</td>\n",
       "      <td>0.642573</td>\n",
       "    </tr>\n",
       "    <tr>\n",
       "      <th>2</th>\n",
       "      <td>3.360100e+10</td>\n",
       "      <td>2</td>\n",
       "      <td>5.416100</td>\n",
       "      <td>7.763021</td>\n",
       "      <td>1.041044</td>\n",
       "      <td>0.420369</td>\n",
       "    </tr>\n",
       "    <tr>\n",
       "      <th>3</th>\n",
       "      <td>3.360101e+10</td>\n",
       "      <td>2</td>\n",
       "      <td>6.942157</td>\n",
       "      <td>9.102310</td>\n",
       "      <td>0.748804</td>\n",
       "      <td>0.153940</td>\n",
       "    </tr>\n",
       "    <tr>\n",
       "      <th>4</th>\n",
       "      <td>3.360101e+10</td>\n",
       "      <td>0</td>\n",
       "      <td>8.114390</td>\n",
       "      <td>27.135851</td>\n",
       "      <td>2.212931</td>\n",
       "      <td>1.641623</td>\n",
       "    </tr>\n",
       "  </tbody>\n",
       "</table>\n",
       "</div>"
      ],
      "text/plain": [
       "   msisdn/number  cluster  avg_rtt_total  avg_tp_total  total_avg_tcp_total  \\\n",
       "0   3.360100e+10        1       8.114390      7.274480             1.041044   \n",
       "1   3.360100e+10        0       3.401197      7.803027             1.041044   \n",
       "2   3.360100e+10        2       5.416100      7.763021             1.041044   \n",
       "3   3.360101e+10        2       6.942157      9.102310             0.748804   \n",
       "4   3.360101e+10        0       8.114390     27.135851             2.212931   \n",
       "\n",
       "   experience_score  \n",
       "0          0.331257  \n",
       "1          0.642573  \n",
       "2          0.420369  \n",
       "3          0.153940  \n",
       "4          1.641623  "
      ]
     },
     "execution_count": 36,
     "metadata": {},
     "output_type": "execute_result"
    }
   ],
   "source": [
    "exp_df = user_expr.set_index('msisdn/number')\n",
    "distance = kmeans2.fit_transform(data_normalized)\n",
    "distance_from_worest_experiance = list(\n",
    "    map(lambda x: x[0], distance))\n",
    "user_expr['experience_score'] = distance_from_worest_experiance\n",
    "user_expr.head(5)"
   ]
  },
  {
   "cell_type": "markdown",
   "metadata": {},
   "source": [
    "Consider the average of both engagement & experience scores as  the satisfaction score & report the top 10 satisfied customer"
   ]
  },
  {
   "cell_type": "code",
   "execution_count": 37,
   "metadata": {},
   "outputs": [
    {
     "data": {
      "text/plain": [
       "[33662697474.0, 33665581058.0, 33628094468.0, 33666105351.0, 33782497288.0]"
      ]
     },
     "execution_count": 37,
     "metadata": {},
     "output_type": "execute_result"
    }
   ],
   "source": [
    "user_eng_id = user_eng['msisdn/number'].values\n",
    "user_expr_id = user_expr['msisdn/number'].values\n",
    "user_intersection = list(\n",
    "    set(user_eng_id).intersection(user_expr_id))\n",
    "user_intersection[:5]"
   ]
  },
  {
   "cell_type": "code",
   "execution_count": 39,
   "metadata": {},
   "outputs": [],
   "source": [
    "user_eng_df = user_eng[user_eng['msisdn/number'].isin(\n",
    "    user_intersection)]\n"
   ]
  },
  {
   "cell_type": "code",
   "execution_count": 40,
   "metadata": {},
   "outputs": [
    {
     "data": {
      "text/plain": [
       "(106854, 6)"
      ]
     },
     "execution_count": 40,
     "metadata": {},
     "output_type": "execute_result"
    }
   ],
   "source": [
    "user_eng_df.shape"
   ]
  },
  {
   "cell_type": "code",
   "execution_count": 41,
   "metadata": {},
   "outputs": [],
   "source": [
    "user_exper_df = user_expr[user_expr['msisdn/number'].isin(\n",
    "    user_intersection)]"
   ]
  },
  {
   "cell_type": "code",
   "execution_count": 42,
   "metadata": {},
   "outputs": [
    {
     "data": {
      "text/plain": [
       "(106854, 6)"
      ]
     },
     "execution_count": 42,
     "metadata": {},
     "output_type": "execute_result"
    }
   ],
   "source": [
    "user_exper_df.shape"
   ]
  },
  {
   "cell_type": "markdown",
   "metadata": {},
   "source": [
    ">> Calulate the satisfaction score for each customer based on engagement & experience score"
   ]
  },
  {
   "cell_type": "code",
   "execution_count": 43,
   "metadata": {},
   "outputs": [
    {
     "data": {
      "text/html": [
       "<div>\n",
       "<style scoped>\n",
       "    .dataframe tbody tr th:only-of-type {\n",
       "        vertical-align: middle;\n",
       "    }\n",
       "\n",
       "    .dataframe tbody tr th {\n",
       "        vertical-align: top;\n",
       "    }\n",
       "\n",
       "    .dataframe thead th {\n",
       "        text-align: right;\n",
       "    }\n",
       "</style>\n",
       "<table border=\"1\" class=\"dataframe\">\n",
       "  <thead>\n",
       "    <tr style=\"text-align: right;\">\n",
       "      <th></th>\n",
       "      <th>msisdn/number</th>\n",
       "      <th>cluster_x</th>\n",
       "      <th>sessions</th>\n",
       "      <th>dur._(ms)</th>\n",
       "      <th>total_data</th>\n",
       "      <th>engagement_score</th>\n",
       "      <th>cluster_y</th>\n",
       "      <th>avg_rtt_total</th>\n",
       "      <th>avg_tp_total</th>\n",
       "      <th>total_avg_tcp_total</th>\n",
       "      <th>experience_score</th>\n",
       "      <th>satisfaction_score</th>\n",
       "    </tr>\n",
       "  </thead>\n",
       "  <tbody>\n",
       "    <tr>\n",
       "      <th>0</th>\n",
       "      <td>3.360100e+10</td>\n",
       "      <td>1</td>\n",
       "      <td>1</td>\n",
       "      <td>0.502300</td>\n",
       "      <td>1.751134</td>\n",
       "      <td>0.587683</td>\n",
       "      <td>1</td>\n",
       "      <td>8.114390</td>\n",
       "      <td>7.274480</td>\n",
       "      <td>1.041044</td>\n",
       "      <td>0.331257</td>\n",
       "      <td>0.459470</td>\n",
       "    </tr>\n",
       "    <tr>\n",
       "      <th>1</th>\n",
       "      <td>3.360100e+10</td>\n",
       "      <td>2</td>\n",
       "      <td>1</td>\n",
       "      <td>0.581407</td>\n",
       "      <td>1.350465</td>\n",
       "      <td>0.884572</td>\n",
       "      <td>0</td>\n",
       "      <td>3.401197</td>\n",
       "      <td>7.803027</td>\n",
       "      <td>1.041044</td>\n",
       "      <td>0.642573</td>\n",
       "      <td>0.763572</td>\n",
       "    </tr>\n",
       "    <tr>\n",
       "      <th>2</th>\n",
       "      <td>3.360100e+10</td>\n",
       "      <td>1</td>\n",
       "      <td>1</td>\n",
       "      <td>0.528418</td>\n",
       "      <td>1.691663</td>\n",
       "      <td>0.678922</td>\n",
       "      <td>2</td>\n",
       "      <td>5.416100</td>\n",
       "      <td>7.763021</td>\n",
       "      <td>1.041044</td>\n",
       "      <td>0.420369</td>\n",
       "      <td>0.549646</td>\n",
       "    </tr>\n",
       "    <tr>\n",
       "      <th>3</th>\n",
       "      <td>3.360101e+10</td>\n",
       "      <td>1</td>\n",
       "      <td>1</td>\n",
       "      <td>0.349441</td>\n",
       "      <td>1.425098</td>\n",
       "      <td>0.359218</td>\n",
       "      <td>2</td>\n",
       "      <td>6.942157</td>\n",
       "      <td>9.102310</td>\n",
       "      <td>0.748804</td>\n",
       "      <td>0.153940</td>\n",
       "      <td>0.256579</td>\n",
       "    </tr>\n",
       "    <tr>\n",
       "      <th>4</th>\n",
       "      <td>3.360101e+10</td>\n",
       "      <td>0</td>\n",
       "      <td>2</td>\n",
       "      <td>0.343253</td>\n",
       "      <td>3.558224</td>\n",
       "      <td>1.495776</td>\n",
       "      <td>0</td>\n",
       "      <td>8.114390</td>\n",
       "      <td>27.135851</td>\n",
       "      <td>2.212931</td>\n",
       "      <td>1.641623</td>\n",
       "      <td>1.568700</td>\n",
       "    </tr>\n",
       "  </tbody>\n",
       "</table>\n",
       "</div>"
      ],
      "text/plain": [
       "   msisdn/number  cluster_x  sessions  dur._(ms)  total_data  \\\n",
       "0   3.360100e+10          1         1   0.502300    1.751134   \n",
       "1   3.360100e+10          2         1   0.581407    1.350465   \n",
       "2   3.360100e+10          1         1   0.528418    1.691663   \n",
       "3   3.360101e+10          1         1   0.349441    1.425098   \n",
       "4   3.360101e+10          0         2   0.343253    3.558224   \n",
       "\n",
       "   engagement_score  cluster_y  avg_rtt_total  avg_tp_total  \\\n",
       "0          0.587683          1       8.114390      7.274480   \n",
       "1          0.884572          0       3.401197      7.803027   \n",
       "2          0.678922          2       5.416100      7.763021   \n",
       "3          0.359218          2       6.942157      9.102310   \n",
       "4          1.495776          0       8.114390     27.135851   \n",
       "\n",
       "   total_avg_tcp_total  experience_score  satisfaction_score  \n",
       "0             1.041044          0.331257            0.459470  \n",
       "1             1.041044          0.642573            0.763572  \n",
       "2             1.041044          0.420369            0.549646  \n",
       "3             0.748804          0.153940            0.256579  \n",
       "4             2.212931          1.641623            1.568700  "
      ]
     },
     "execution_count": 43,
     "metadata": {},
     "output_type": "execute_result"
    }
   ],
   "source": [
    "user_df = pd.merge(user_eng_df, user_exper_df, on='msisdn/number')\n",
    "user_df['satisfaction_score'] = (\n",
    "    user_df['engagement_score'] + user_df['experience_score'])/2\n",
    "user_df.head(5)"
   ]
  },
  {
   "cell_type": "code",
   "execution_count": 45,
   "metadata": {},
   "outputs": [],
   "source": [
    "satisfaction_df = user_df[['msisdn/number', 'engagement_score',\n",
    "                        'experience_score', 'satisfaction_score']]\n",
    "satisfaction_df = satisfaction_df.set_index('msisdn/number')"
   ]
  },
  {
   "cell_type": "code",
   "execution_count": 47,
   "metadata": {},
   "outputs": [
    {
     "data": {
      "text/html": [
       "<div>\n",
       "<style scoped>\n",
       "    .dataframe tbody tr th:only-of-type {\n",
       "        vertical-align: middle;\n",
       "    }\n",
       "\n",
       "    .dataframe tbody tr th {\n",
       "        vertical-align: top;\n",
       "    }\n",
       "\n",
       "    .dataframe thead th {\n",
       "        text-align: right;\n",
       "    }\n",
       "</style>\n",
       "<table border=\"1\" class=\"dataframe\">\n",
       "  <thead>\n",
       "    <tr style=\"text-align: right;\">\n",
       "      <th></th>\n",
       "      <th>engagement_score</th>\n",
       "      <th>experience_score</th>\n",
       "      <th>satisfaction_score</th>\n",
       "    </tr>\n",
       "    <tr>\n",
       "      <th>msisdn/number</th>\n",
       "      <th></th>\n",
       "      <th></th>\n",
       "      <th></th>\n",
       "    </tr>\n",
       "  </thead>\n",
       "  <tbody>\n",
       "    <tr>\n",
       "      <th>3.368510e+10</th>\n",
       "      <td>1.996064</td>\n",
       "      <td>1.977469</td>\n",
       "      <td>1.986766</td>\n",
       "    </tr>\n",
       "    <tr>\n",
       "      <th>3.366636e+10</th>\n",
       "      <td>1.995985</td>\n",
       "      <td>1.977447</td>\n",
       "      <td>1.986716</td>\n",
       "    </tr>\n",
       "    <tr>\n",
       "      <th>3.375034e+10</th>\n",
       "      <td>1.995662</td>\n",
       "      <td>1.977638</td>\n",
       "      <td>1.986650</td>\n",
       "    </tr>\n",
       "    <tr>\n",
       "      <th>3.369829e+10</th>\n",
       "      <td>1.995774</td>\n",
       "      <td>1.977202</td>\n",
       "      <td>1.986488</td>\n",
       "    </tr>\n",
       "    <tr>\n",
       "      <th>3.376164e+10</th>\n",
       "      <td>1.995415</td>\n",
       "      <td>1.977090</td>\n",
       "      <td>1.986252</td>\n",
       "    </tr>\n",
       "    <tr>\n",
       "      <th>3.366863e+10</th>\n",
       "      <td>1.995653</td>\n",
       "      <td>1.976422</td>\n",
       "      <td>1.986037</td>\n",
       "    </tr>\n",
       "    <tr>\n",
       "      <th>3.366910e+10</th>\n",
       "      <td>1.994937</td>\n",
       "      <td>1.976996</td>\n",
       "      <td>1.985967</td>\n",
       "    </tr>\n",
       "    <tr>\n",
       "      <th>3.366445e+10</th>\n",
       "      <td>1.995891</td>\n",
       "      <td>1.975911</td>\n",
       "      <td>1.985901</td>\n",
       "    </tr>\n",
       "    <tr>\n",
       "      <th>3.366771e+10</th>\n",
       "      <td>1.994904</td>\n",
       "      <td>1.976862</td>\n",
       "      <td>1.985883</td>\n",
       "    </tr>\n",
       "    <tr>\n",
       "      <th>3.377824e+10</th>\n",
       "      <td>1.994755</td>\n",
       "      <td>1.976942</td>\n",
       "      <td>1.985848</td>\n",
       "    </tr>\n",
       "  </tbody>\n",
       "</table>\n",
       "</div>"
      ],
      "text/plain": [
       "               engagement_score  experience_score  satisfaction_score\n",
       "msisdn/number                                                        \n",
       "3.368510e+10           1.996064          1.977469            1.986766\n",
       "3.366636e+10           1.995985          1.977447            1.986716\n",
       "3.375034e+10           1.995662          1.977638            1.986650\n",
       "3.369829e+10           1.995774          1.977202            1.986488\n",
       "3.376164e+10           1.995415          1.977090            1.986252\n",
       "3.366863e+10           1.995653          1.976422            1.986037\n",
       "3.366910e+10           1.994937          1.976996            1.985967\n",
       "3.366445e+10           1.995891          1.975911            1.985901\n",
       "3.366771e+10           1.994904          1.976862            1.985883\n",
       "3.377824e+10           1.994755          1.976942            1.985848"
      ]
     },
     "execution_count": 47,
     "metadata": {},
     "output_type": "execute_result"
    }
   ],
   "source": [
    "top_10_satisfaction = satisfaction_df.nlargest(10, 'satisfaction_score')\n",
    "top_10_satisfaction.head(10)"
   ]
  },
  {
   "cell_type": "code",
   "execution_count": 49,
   "metadata": {},
   "outputs": [
    {
     "data": {
      "image/png": "[encoded data removed]",
      "text/plain": [
       "<Figure size 864x504 with 1 Axes>"
      ]
     },
     "metadata": {
      "needs_background": "light"
     },
     "output_type": "display_data"
    }
   ],
   "source": [
    "pl.plot_bar(top_10_satisfaction, top_10_satisfaction.index, top_10_satisfaction['satisfaction_score'], \"Top 10 user satisfaction score\", \"Users\", \"Satisfaction Score\")"
   ]
  },
  {
   "cell_type": "markdown",
   "metadata": {},
   "source": [
    "Build a regression model of your choice to predict the satisfaction score of a customer. "
   ]
  },
  {
   "cell_type": "code",
   "execution_count": 72,
   "metadata": {},
   "outputs": [],
   "source": [
    "class Model:\n",
    "    def __init__(self,X_train,X_test,y_train,y_test):\n",
    "        self.X_train = X_train\n",
    "        self.X_test = X_test\n",
    "        self.y_train = y_train\n",
    "        self.y_test = y_test\n",
    "\n",
    "\n",
    "    def model(self):\n",
    "        self.trained_model = LinearRegression()\n",
    "        self.trained_model.fit(self.X_train, self.y_train)\n",
    "        \n",
    "\n",
    "    def predict(self):\n",
    "        self.model()\n",
    "        return self.trained_model.predict(self.X_test)\n",
    "\n",
    "    def score(self):\n",
    "        return self.trained_model.score(self.X_test, self.y_test)\n",
    "\n",
    "    def error_score(self):\n",
    "        return np.mean((self.trained_model.predict(self.X_test) - self.y_test) ** 2)\n",
    "    \n",
    "    def save_model(self, path):\n",
    "        pickle.dump(self.trained_model, open(path, 'wb'))"
   ]
  },
  {
   "cell_type": "markdown",
   "metadata": {},
   "source": [
    "Take X as the engagement score, engagement score and y as the satisfaction score."
   ]
  },
  {
   "cell_type": "code",
   "execution_count": 73,
   "metadata": {},
   "outputs": [],
   "source": [
    "X = satisfaction_df[['engagement_score', 'experience_score']]\n",
    "Y = satisfaction_df[['satisfaction_score']]\n",
    "X_train, X_test, y_train, y_test = model_selection.train_test_split(X, Y, test_size=0.2, random_state=42) "
   ]
  },
  {
   "cell_type": "code",
   "execution_count": 74,
   "metadata": {},
   "outputs": [],
   "source": [
    "model = Model(X_train, X_test, y_train, y_test)"
   ]
  },
  {
   "cell_type": "code",
   "execution_count": 75,
   "metadata": {},
   "outputs": [
    {
     "data": {
      "text/plain": [
       "array([[1.05493311],\n",
       "       [0.48790332],\n",
       "       [1.06225209],\n",
       "       ...,\n",
       "       [0.29570607],\n",
       "       [1.89817106],\n",
       "       [0.2429168 ]])"
      ]
     },
     "execution_count": 75,
     "metadata": {},
     "output_type": "execute_result"
    }
   ],
   "source": [
    "model.predict()"
   ]
  },
  {
   "cell_type": "code",
   "execution_count": 76,
   "metadata": {},
   "outputs": [
    {
     "data": {
      "text/plain": [
       "1.0"
      ]
     },
     "execution_count": 76,
     "metadata": {},
     "output_type": "execute_result"
    }
   ],
   "source": [
    "model.score()"
   ]
  },
  {
   "cell_type": "code",
   "execution_count": 77,
   "metadata": {},
   "outputs": [
    {
     "data": {
      "text/plain": [
       "satisfaction_score    5.537067e-32\n",
       "dtype: float64"
      ]
     },
     "execution_count": 77,
     "metadata": {},
     "output_type": "execute_result"
    }
   ],
   "source": [
    "model.error_score()"
   ]
  },
  {
   "cell_type": "code",
   "execution_count": 78,
   "metadata": {},
   "outputs": [],
   "source": [
    "model.save_model(\"../models/satisfaction_model.pkl\")"
   ]
  },
  {
   "cell_type": "markdown",
   "metadata": {},
   "source": [
    "Run a k-means (k=2) on the engagement & the experience score . "
   ]
  },
  {
   "cell_type": "code",
   "execution_count": null,
   "metadata": {},
   "outputs": [],
   "source": []
  },
  {
   "cell_type": "markdown",
   "metadata": {},
   "source": []
  }
 ],
 "metadata": {
  "interpreter": {
   "hash": "75f376effe886d8b51843b632a4b92665fc33b9300797299f553ce70034dd324"
  },
  "kernelspec": {
   "display_name": "Python 3.9.7 ('base')",
   "language": "python",
   "name": "python3"
  },
  "language_info": {
   "codemirror_mode": {
    "name": "ipython",
    "version": 3
   },
   "file_extension": ".py",
   "mimetype": "text/x-python",
   "name": "python",
   "nbconvert_exporter": "python",
   "pygments_lexer": "ipython3",
   "version": "3.9.7"
  },
  "orig_nbformat": 4
 },
 "nbformat": 4,
 "nbformat_minor": 2
}
